{
 "cells": [
  {
   "cell_type": "code",
   "execution_count": 21,
   "metadata": {},
   "outputs": [],
   "source": [
    "import numpy as np\n",
    "import pandas as pd\n",
    "import matplotlib.pyplot as plt\n",
    "import seaborn as sb\n",
    "\n",
    "from sklearn.linear_model import LinearRegression\n",
    "from sklearn.feature_selection import mutual_info_regression, f_regression\n",
    "from sklearn.ensemble import RandomForestRegressor"
   ]
  },
  {
   "cell_type": "code",
   "execution_count": 5,
   "metadata": {},
   "outputs": [
    {
     "data": {
      "text/html": [
       "<div>\n",
       "<style scoped>\n",
       "    .dataframe tbody tr th:only-of-type {\n",
       "        vertical-align: middle;\n",
       "    }\n",
       "\n",
       "    .dataframe tbody tr th {\n",
       "        vertical-align: top;\n",
       "    }\n",
       "\n",
       "    .dataframe thead th {\n",
       "        text-align: right;\n",
       "    }\n",
       "</style>\n",
       "<table border=\"1\" class=\"dataframe\">\n",
       "  <thead>\n",
       "    <tr style=\"text-align: right;\">\n",
       "      <th></th>\n",
       "      <th>Smart Parking</th>\n",
       "      <th>Car Sharing Services</th>\n",
       "      <th>Traffic</th>\n",
       "      <th>Public Transport</th>\n",
       "      <th>E-Charge Spots</th>\n",
       "      <th>Infrastructure Investment</th>\n",
       "      <th>Clean Energy</th>\n",
       "      <th>Smart Building</th>\n",
       "      <th>Waste Disposal</th>\n",
       "      <th>Environment Protection</th>\n",
       "      <th>...</th>\n",
       "      <th>Blockchain ecosystem</th>\n",
       "      <th>4G LTE</th>\n",
       "      <th>Internet speed</th>\n",
       "      <th>Wifi Hotspots</th>\n",
       "      <th>Smartphone Penetration</th>\n",
       "      <th>Cyber security</th>\n",
       "      <th>Living Standard</th>\n",
       "      <th>Expert Perception</th>\n",
       "      <th>Rank/Score</th>\n",
       "      <th>IMD Smart City Index</th>\n",
       "    </tr>\n",
       "  </thead>\n",
       "  <tbody>\n",
       "    <tr>\n",
       "      <th>0</th>\n",
       "      <td>8.22</td>\n",
       "      <td>2.06</td>\n",
       "      <td>8.71</td>\n",
       "      <td>4.18</td>\n",
       "      <td>2.51</td>\n",
       "      <td>7.88</td>\n",
       "      <td>8.54</td>\n",
       "      <td>6.75</td>\n",
       "      <td>8.25</td>\n",
       "      <td>8.71</td>\n",
       "      <td>...</td>\n",
       "      <td>1.31</td>\n",
       "      <td>8.26</td>\n",
       "      <td>7.96</td>\n",
       "      <td>1.91</td>\n",
       "      <td>9.69</td>\n",
       "      <td>7.20</td>\n",
       "      <td>8.11</td>\n",
       "      <td>6.57</td>\n",
       "      <td>6.94</td>\n",
       "      <td>NaN</td>\n",
       "    </tr>\n",
       "    <tr>\n",
       "      <th>1</th>\n",
       "      <td>8.50</td>\n",
       "      <td>3.34</td>\n",
       "      <td>8.71</td>\n",
       "      <td>2.44</td>\n",
       "      <td>2.59</td>\n",
       "      <td>7.88</td>\n",
       "      <td>8.54</td>\n",
       "      <td>6.75</td>\n",
       "      <td>8.25</td>\n",
       "      <td>7.66</td>\n",
       "      <td>...</td>\n",
       "      <td>1.31</td>\n",
       "      <td>6.14</td>\n",
       "      <td>5.08</td>\n",
       "      <td>2.36</td>\n",
       "      <td>9.69</td>\n",
       "      <td>7.20</td>\n",
       "      <td>7.20</td>\n",
       "      <td>6.57</td>\n",
       "      <td>6.42</td>\n",
       "      <td>NaN</td>\n",
       "    </tr>\n",
       "    <tr>\n",
       "      <th>2</th>\n",
       "      <td>6.44</td>\n",
       "      <td>4.93</td>\n",
       "      <td>9.02</td>\n",
       "      <td>9.02</td>\n",
       "      <td>6.37</td>\n",
       "      <td>8.03</td>\n",
       "      <td>1.15</td>\n",
       "      <td>2.36</td>\n",
       "      <td>2.60</td>\n",
       "      <td>2.74</td>\n",
       "      <td>...</td>\n",
       "      <td>2.17</td>\n",
       "      <td>5.69</td>\n",
       "      <td>1.98</td>\n",
       "      <td>6.75</td>\n",
       "      <td>9.31</td>\n",
       "      <td>2.13</td>\n",
       "      <td>6.22</td>\n",
       "      <td>9.47</td>\n",
       "      <td>5.60</td>\n",
       "      <td>56.0</td>\n",
       "    </tr>\n",
       "    <tr>\n",
       "      <th>3</th>\n",
       "      <td>5.13</td>\n",
       "      <td>3.27</td>\n",
       "      <td>6.67</td>\n",
       "      <td>9.55</td>\n",
       "      <td>5.76</td>\n",
       "      <td>7.50</td>\n",
       "      <td>2.77</td>\n",
       "      <td>6.29</td>\n",
       "      <td>4.20</td>\n",
       "      <td>2.59</td>\n",
       "      <td>...</td>\n",
       "      <td>2.64</td>\n",
       "      <td>6.45</td>\n",
       "      <td>2.36</td>\n",
       "      <td>4.93</td>\n",
       "      <td>4.97</td>\n",
       "      <td>9.62</td>\n",
       "      <td>7.58</td>\n",
       "      <td>9.16</td>\n",
       "      <td>6.07</td>\n",
       "      <td>NaN</td>\n",
       "    </tr>\n",
       "    <tr>\n",
       "      <th>4</th>\n",
       "      <td>9.91</td>\n",
       "      <td>8.87</td>\n",
       "      <td>8.87</td>\n",
       "      <td>3.34</td>\n",
       "      <td>8.26</td>\n",
       "      <td>5.99</td>\n",
       "      <td>1.92</td>\n",
       "      <td>6.82</td>\n",
       "      <td>8.93</td>\n",
       "      <td>4.93</td>\n",
       "      <td>...</td>\n",
       "      <td>9.22</td>\n",
       "      <td>8.18</td>\n",
       "      <td>6.75</td>\n",
       "      <td>6.97</td>\n",
       "      <td>6.49</td>\n",
       "      <td>7.28</td>\n",
       "      <td>7.43</td>\n",
       "      <td>10.00</td>\n",
       "      <td>7.55</td>\n",
       "      <td>11.0</td>\n",
       "    </tr>\n",
       "  </tbody>\n",
       "</table>\n",
       "<p>5 rows × 26 columns</p>\n",
       "</div>"
      ],
      "text/plain": [
       "   Smart Parking  Car Sharing Services  Traffic  Public Transport  \\\n",
       "0           8.22                  2.06     8.71              4.18   \n",
       "1           8.50                  3.34     8.71              2.44   \n",
       "2           6.44                  4.93     9.02              9.02   \n",
       "3           5.13                  3.27     6.67              9.55   \n",
       "4           9.91                  8.87     8.87              3.34   \n",
       "\n",
       "   E-Charge Spots  Infrastructure Investment  Clean Energy  Smart Building  \\\n",
       "0            2.51                       7.88          8.54            6.75   \n",
       "1            2.59                       7.88          8.54            6.75   \n",
       "2            6.37                       8.03          1.15            2.36   \n",
       "3            5.76                       7.50          2.77            6.29   \n",
       "4            8.26                       5.99          1.92            6.82   \n",
       "\n",
       "   Waste Disposal  Environment Protection  ...  Blockchain ecosystem  4G LTE  \\\n",
       "0            8.25                    8.71  ...                  1.31    8.26   \n",
       "1            8.25                    7.66  ...                  1.31    6.14   \n",
       "2            2.60                    2.74  ...                  2.17    5.69   \n",
       "3            4.20                    2.59  ...                  2.64    6.45   \n",
       "4            8.93                    4.93  ...                  9.22    8.18   \n",
       "\n",
       "   Internet speed  Wifi Hotspots  Smartphone Penetration  Cyber security  \\\n",
       "0            7.96           1.91                    9.69            7.20   \n",
       "1            5.08           2.36                    9.69            7.20   \n",
       "2            1.98           6.75                    9.31            2.13   \n",
       "3            2.36           4.93                    4.97            9.62   \n",
       "4            6.75           6.97                    6.49            7.28   \n",
       "\n",
       "   Living Standard  Expert Perception  Rank/Score  IMD Smart City Index  \n",
       "0             8.11               6.57        6.94                   NaN  \n",
       "1             7.20               6.57        6.42                   NaN  \n",
       "2             6.22               9.47        5.60                  56.0  \n",
       "3             7.58               9.16        6.07                   NaN  \n",
       "4             7.43              10.00        7.55                  11.0  \n",
       "\n",
       "[5 rows x 26 columns]"
      ]
     },
     "execution_count": 5,
     "metadata": {},
     "output_type": "execute_result"
    }
   ],
   "source": [
    "#EasyPark data\n",
    "data = pd.read_csv('easypark_data.csv')\n",
    "data = data[data.columns.values[2:]]\n",
    "\n",
    "data.head()"
   ]
  },
  {
   "cell_type": "markdown",
   "metadata": {},
   "source": [
    "## Mutual Information Based Feature selection"
   ]
  },
  {
   "cell_type": "code",
   "execution_count": 8,
   "metadata": {},
   "outputs": [],
   "source": [
    "X = data[data.columns.values[:-3]].values\n",
    "expert_Y = data[data.columns.values[-3]]"
   ]
  },
  {
   "cell_type": "code",
   "execution_count": 10,
   "metadata": {},
   "outputs": [],
   "source": [
    "#Information gain based feature selection\n",
    "mi = mutual_info_regression(X, expert_Y)"
   ]
  },
  {
   "cell_type": "code",
   "execution_count": 12,
   "metadata": {},
   "outputs": [
    {
     "data": {
      "text/plain": [
       "Smart Parking                      0.057199\n",
       "Car Sharing Services               0.069978\n",
       "Traffic                            0.000909\n",
       "Public Transport                   0.001506\n",
       "E-Charge Spots                     0.165223\n",
       "Infrastructure Investment          0.000000\n",
       "Clean Energy                       0.028427\n",
       "Smart Building                     0.096206\n",
       "Waste Disposal                     0.042309\n",
       "Environment Protection             0.138916\n",
       "Environmental Performance Index    0.060235\n",
       "Citizen Participation              0.197423\n",
       "Digitalization of Government       0.042725\n",
       "Urban Planning                     0.000000\n",
       "Education                          0.050339\n",
       "Business Ecosystem                 0.051974\n",
       "Blockchain ecosystem               0.043195\n",
       "4G LTE                             0.000000\n",
       "Internet speed                     0.000000\n",
       "Wifi Hotspots                      0.128628\n",
       "Smartphone Penetration             0.163162\n",
       "Cyber security                     0.116341\n",
       "Living Standard                    0.012891\n",
       "dtype: float64"
      ]
     },
     "execution_count": 12,
     "metadata": {},
     "output_type": "execute_result"
    }
   ],
   "source": [
    "mi_per_feature = pd.Series(mi, index=data.columns.values[:-3])\n",
    "mi_per_feature"
   ]
  },
  {
   "cell_type": "code",
   "execution_count": 15,
   "metadata": {},
   "outputs": [
    {
     "data": {
      "text/plain": [
       "E-Charge Spots            0.165223\n",
       "Environment Protection    0.138916\n",
       "Citizen Participation     0.197423\n",
       "Wifi Hotspots             0.128628\n",
       "Smartphone Penetration    0.163162\n",
       "Cyber security            0.116341\n",
       "dtype: float64"
      ]
     },
     "execution_count": 15,
     "metadata": {},
     "output_type": "execute_result"
    }
   ],
   "source": [
    "mi_per_feature[mi_per_feature>0.1]"
   ]
  },
  {
   "cell_type": "markdown",
   "metadata": {},
   "source": [
    "## F test based feature selection"
   ]
  },
  {
   "cell_type": "code",
   "execution_count": 18,
   "metadata": {},
   "outputs": [],
   "source": [
    "#Information gain based feature selection\n",
    "f_score = f_regression(X, expert_Y)"
   ]
  },
  {
   "cell_type": "code",
   "execution_count": 19,
   "metadata": {},
   "outputs": [
    {
     "data": {
      "text/plain": [
       "(array([9.70188433e-01, 1.51422069e+01, 6.69467939e+00, 6.98686251e-01,\n",
       "        1.49805772e+01, 7.04729066e-03, 3.01966248e+00, 3.28020817e+00,\n",
       "        1.49809184e+00, 1.95683076e+01, 7.61995575e+00, 1.71219701e-01,\n",
       "        3.47701769e-01, 4.11909273e+00, 1.68023005e+01, 1.13445774e+01,\n",
       "        2.43170793e+00, 5.71520498e-01, 1.57927023e-01, 1.55952242e+01,\n",
       "        5.13141735e-01, 3.83933876e-01, 7.80151800e-03]),\n",
       " array([3.27058772e-01, 1.81874750e-04, 1.11381183e-02, 4.05258872e-01,\n",
       "        1.95874809e-04, 9.33268908e-01, 8.54019180e-02, 7.31835770e-02,\n",
       "        2.23899676e-01, 2.51694284e-05, 6.89118362e-03, 6.79934247e-01,\n",
       "        5.56774043e-01, 4.51128509e-02, 8.56164113e-05, 1.08272765e-03,\n",
       "        1.22126933e-01, 4.51468727e-01, 6.91936509e-01, 1.47856372e-04,\n",
       "        4.75485567e-01, 5.36943347e-01, 9.29797658e-01]))"
      ]
     },
     "execution_count": 19,
     "metadata": {},
     "output_type": "execute_result"
    }
   ],
   "source": [
    "f_score"
   ]
  },
  {
   "cell_type": "markdown",
   "metadata": {},
   "source": [
    "## Random Forest Regressor feature importance test"
   ]
  },
  {
   "cell_type": "code",
   "execution_count": 28,
   "metadata": {},
   "outputs": [
    {
     "data": {
      "text/plain": [
       "RandomForestRegressor(bootstrap=True, ccp_alpha=0.0, criterion='mse',\n",
       "                      max_depth=None, max_features='auto', max_leaf_nodes=None,\n",
       "                      max_samples=None, min_impurity_decrease=0.0,\n",
       "                      min_impurity_split=None, min_samples_leaf=1,\n",
       "                      min_samples_split=2, min_weight_fraction_leaf=0.0,\n",
       "                      n_estimators=100, n_jobs=None, oob_score=False,\n",
       "                      random_state=None, verbose=0, warm_start=False)"
      ]
     },
     "execution_count": 28,
     "metadata": {},
     "output_type": "execute_result"
    }
   ],
   "source": [
    "reg = RandomForestRegressor()\n",
    "reg.fit(X, expert_Y)"
   ]
  },
  {
   "cell_type": "code",
   "execution_count": 29,
   "metadata": {},
   "outputs": [
    {
     "data": {
      "text/plain": [
       "Car Sharing Services      0.065866\n",
       "E-Charge Spots            0.103058\n",
       "Environment Protection    0.089759\n",
       "Urban Planning            0.051025\n",
       "Wifi Hotspots             0.081438\n",
       "Living Standard           0.053054\n",
       "dtype: float64"
      ]
     },
     "execution_count": 29,
     "metadata": {},
     "output_type": "execute_result"
    }
   ],
   "source": [
    "feature_importance = pd.Series(reg.feature_importances_, index=data.columns.values[:-3])\n",
    "feature_importance[feature_importance > 0.05]"
   ]
  },
  {
   "cell_type": "code",
   "execution_count": null,
   "metadata": {},
   "outputs": [],
   "source": []
  }
 ],
 "metadata": {
  "kernelspec": {
   "display_name": "Python 3",
   "language": "python",
   "name": "python3"
  },
  "language_info": {
   "codemirror_mode": {
    "name": "ipython",
    "version": 3
   },
   "file_extension": ".py",
   "mimetype": "text/x-python",
   "name": "python",
   "nbconvert_exporter": "python",
   "pygments_lexer": "ipython3",
   "version": "3.7.3"
  }
 },
 "nbformat": 4,
 "nbformat_minor": 4
}
